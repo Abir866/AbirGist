{
  "cells": [
    {
      "cell_type": "markdown",
      "metadata": {
        "id": "view-in-github",
        "colab_type": "text"
      },
      "source": [
        "<a href=\"https://colab.research.google.com/github/Abir866/AbirGist/blob/main/Project%202-%20Electrical%20circuit%20representation.ipynb\" target=\"_parent\"><img src=\"https://colab.research.google.com/assets/colab-badge.svg\" alt=\"Open In Colab\"/></a>"
      ]
    },
    {
      "cell_type": "markdown",
      "metadata": {
        "id": "o6ymMr10v0Fe"
      },
      "source": [
        "<h1 align = \"center\">Computer Prog. & Problem Solving</h1>\n",
        "<h2 align = \"center\">CSCI 1227 - Spring, 2022</h2>\n",
        "\n",
        "<h3 align = \"center\"><u>Project 2</u>: Object Oriented Programming</h3>\n",
        "<h3 align = \"center\"><u> Prepared by</u>: M. Shamsuzzaman, PhD</h3>\n",
        "\n",
        "\n",
        "\n",
        "\n"
      ]
    },
    {
      "cell_type": "markdown",
      "source": [
        "### Background\n",
        "\n",
        "An electrical/electronic circuit is composed of different components, like, power supply unit/battery, resistor(s), inductor(s), capacitors, and other active components, like, diodes, transistors, etc. In most cases, the components have 2 terminals (end nodes) but can have 3 terminals (like a transistor) or multiple terminals (e.g., an IC).\n",
        "\n",
        "To make a circuit, each component is connected to other components/ground in a certain fashion.\n",
        "\n",
        "\n",
        "\n",
        ""
      ],
      "metadata": {
        "id": "GhvzMvPwwetk"
      }
    },
    {
      "cell_type": "markdown",
      "source": [
        "#### Goal\n",
        "In this project, we are going to create class/sub-classes to represent different circuit components using object oriented programming feature available in Python.\n",
        "\n",
        "The main takeaway is the understanding that Python is a flexible language in which we can define our own custom objects, whose functionality and features can be shared with other similar objects.\n"
      ],
      "metadata": {
        "id": "-gS0txB7-UNd"
      }
    },
    {
      "cell_type": "markdown",
      "metadata": {
        "id": "ET9BWnD_v0Fi"
      },
      "source": [
        "### Project Description\n",
        "In this project, we are going to model and implement different circuit `Component`s. A circuit behaves differently based on how the components are connected (even if the circuit components are the same). However, we are not focusing on the circuit itself. Rather, we are going to create different types of components. At the end of the project, you will be able to calculate the total cost of the components of a given circuit though.\n",
        "\n",
        "#### Steps:\n",
        "\n",
        "1. Create a base class `Component` with object attributes `id` (unique for each component), `name`, `n_terminals` (number of terminals), and `price` (price of the component); and a class attribute `count` (to keep track of total number of components in a circuit).\n",
        "\n",
        "\n",
        "2. Inherit a class `Resistor` from `Component` class with the following feature:\n",
        "    - a `Resistor` always have 2 terminals\n",
        "\n",
        "\n",
        "3. Inherit a class `Transistor` from `Component` class with the following feature:\n",
        "    - a `Transistor` always have 3 terminals\n",
        "    \n",
        "\n",
        "- All these class must implement `__init__`, `__str__` and optionaly `__repr__` methods.\n",
        "- Instead of accessing the member variables, you need to implement respective methods to get those values.\n",
        "- The above classes should be in the `circuit` module\n",
        "- respective docstrings should be included (module level, class level and method level)\n",
        "\n",
        "In another file (`__main__` module), you will create a `list` of at least 4 different components (mix of both `Resistor` and `Transistor`) for a cicuit and print the cost of individual components (along with their names) and the total cost of the components all in a single file.\n"
      ]
    },
    {
      "cell_type": "code",
      "source": [
        "%%writefile circuit.py\n",
        "'''This module provides a class for Component and it's sub-classes -  Resistor and Transistor along with all their attributes\n",
        "'''\n",
        "from random import randint\n",
        "\n",
        "class Component() :\n",
        "  '''A class to represent a component\n",
        "  '''\n",
        "  count = 0\n",
        "  def __init__(self, iD, name = \"unknown\", no_terminals = randint(4,100), price =20.0):\n",
        "    \"\"\"Each component has an id,name,number of terminals and price as attributes\n",
        "    \"\"\"\n",
        "    Component.count += 1\n",
        "    self.iD = Component.count\n",
        "    self.name = name\n",
        "    self.no_terminals = no_terminals\n",
        "    self.price = price\n",
        "\n",
        "\n",
        "  def __str__(self):\n",
        "    \"\"\"Return a descriptive string for this instance,\n",
        "         invoked by print() and str()\n",
        "    \"\"\"\n",
        "    return f'id:{self.iD}, name:{self.name}, number of terminals:{self.no_terminals}, price:{self.price}'\n",
        "\n",
        "  def __repr__(self):\n",
        "    \"\"\"Return a formal string that can be used to re-create this instance,\n",
        "           invoked by repr()\n",
        "    \"\"\"\n",
        "    return f'Component(id:{self.iD}, name:{self.name}, number of terminals:{self.no_terminals}, price:{self.price}'\n",
        "  def get_id(self):\n",
        "    \"\"\"Return the id of the particular component\n",
        "    \"\"\"\n",
        "    return self.iD\n",
        "  def get_name(self):\n",
        "    \"\"\"Return the name of the particular component\n",
        "    \"\"\"\n",
        "    return self.name\n",
        "  def get_no_terminals(self):\n",
        "    \"\"\"Return the number of terminals of the component\n",
        "    \"\"\"\n",
        "    return self.no_terminals\n",
        "  def get_price(self):\n",
        "    \"\"\"Return the price of the component\n",
        "    \"\"\"\n",
        "    return self.price\n",
        "  def get_count(self):\n",
        "    return self.count\n",
        "\n",
        "class Resistor(Component):\n",
        "  '''A class to represent a resistor\n",
        "  '''\n",
        "  def __init__(self, iD=0, name = 'unknown', price = 10):\n",
        "    \"\"\"Each Resistor is a component with fixed number of terminals\n",
        "    \"\"\"\n",
        "    super().__init__(iD, name, 2, price)\n",
        "\n",
        "\n",
        "  def __repr__(self):\n",
        "    \"\"\"Return a formal string that can be used to re-create this instance,\n",
        "           invoked by repr()\n",
        "    \"\"\"\n",
        "    return f'Resistor(id:{self.iD}, name:{self.name}, number of terminals:{self.no_terminals}, price:{self.price}'\n",
        "\n",
        "class Transistor(Component):\n",
        "  \"\"\"A class to represent a transistor\n",
        "  \"\"\"\n",
        "  def __init__(self, iD = 0, name = 'unknown', price = 15.0):\n",
        "    \"\"\"Each transistor is a component with a particular number of terminals\n",
        "    \"\"\"\n",
        "\n",
        "    super().__init__(iD, name, 3, price)\n",
        "\n",
        "  def __repr__(self):\n",
        "    \"\"\"Return a formal string that can be used to re-create this instance,\n",
        "           invoked by repr()\n",
        "    \"\"\"\n",
        "    return f'Transistor(id:{self.iD}, name:{self.name}, number of terminals:{self.no_terminals}, price:{self.price}'\n",
        "\n",
        "\n",
        "\n"
      ],
      "metadata": {
        "colab": {
          "base_uri": "https://localhost:8080/"
        },
        "id": "khzYlnQkyrHk",
        "outputId": "9a3afcfc-9a4c-495d-d0f3-c3dadcfcefa1"
      },
      "execution_count": null,
      "outputs": [
        {
          "output_type": "stream",
          "name": "stdout",
          "text": [
            "Overwriting circuit.py\n"
          ]
        }
      ]
    },
    {
      "cell_type": "code",
      "source": [
        "class T:\n",
        "  def __init__\n"
      ],
      "metadata": {
        "colab": {
          "base_uri": "https://localhost:8080/",
          "height": 131
        },
        "id": "VGgd93cu9kpt",
        "outputId": "e4f4de2e-4568-481a-be57-161bcb7eef17"
      },
      "execution_count": null,
      "outputs": [
        {
          "output_type": "error",
          "ename": "SyntaxError",
          "evalue": "ignored",
          "traceback": [
            "\u001b[0;36m  File \u001b[0;32m\"<ipython-input-23-cd1dcb0cfe7d>\"\u001b[0;36m, line \u001b[0;32m2\u001b[0m\n\u001b[0;31m    def __init__\u001b[0m\n\u001b[0m                ^\u001b[0m\n\u001b[0;31mSyntaxError\u001b[0m\u001b[0;31m:\u001b[0m invalid syntax\n"
          ]
        }
      ]
    },
    {
      "cell_type": "code",
      "source": [
        "%%writefile P2_Tufan.py\n",
        "import random\n",
        "import string\n",
        "import circuit\n",
        "\n",
        "#Reset the count to zero before running\n",
        "circuit.Component.count= 0\n",
        "\n",
        "# Indicating the number of comopents\n",
        "number_of_components = 9\n",
        "\n",
        "#Opening a file to write\n",
        "out_file = open(\"output.txt\",\"w\")\n",
        "# A List to for a sequence of integers equal to the number of components in size\n",
        "L = [x for x in range(number_of_components)]\n",
        "\n",
        "#  lists to store created instances of each type as their elements\n",
        "components = []\n",
        "resistors =[]\n",
        "transistors =[]\n",
        "#resistors = [Resistor(i = randint(1000),name = \"R\".join(random.choice(L)))]\n",
        "# Appending intances of a type in a their designated lists\n",
        "for i in range(number_of_components):\n",
        "  #n = random.choice(L)\n",
        "  if len(resistors) < (number_of_components//2) :\n",
        "    name =\"R\"+str(i)\n",
        "    resistors.append(circuit.Resistor(name,price = random.randint(70,100)))\n",
        "  else:\n",
        "    name2 =\"T\"+str(i)\n",
        "\n",
        "    transistors.append(circuit.Transistor(name2,price = random.randint(101, 150)))\n",
        " # L.remove(n)\n",
        "# Storing the resistors and transistor elemets as elements of componenets\n",
        "components = components + resistors + transistors\n",
        "\n",
        "# The total number of objects created of component type\n",
        "\n",
        "total = 0 # Initialize variable to store total cost of components\n",
        "cost=0 # Initialize a variable to hold individual cot of components\n",
        "name =\"\" # Initialize  a variable to store individual name of components\n",
        "print(f'Name'.ljust(20)+f'Price'.rjust(5),file =out_file)\n",
        "# Retriving each componenet's name and price attributes and printing them out serially\n",
        "for index in range(number_of_components):\n",
        "  cost = components[index].get_price()\n",
        "  name = components[index].get_name()\n",
        "  total += cost\n",
        "  print(f'{name}'.ljust(20)+f'{cost}'.rjust(5),file = out_file)\n",
        "\n",
        "print('-'*50,file = out_file)\n",
        "print(f'Total'.ljust(20)+f'{total}'.rjust(5),file = out_file)\n",
        "\n",
        "#print(components[0].get_price()+ components[1].get_price())\n",
        "out_file.close()\n",
        "\n",
        "\"\"\"\n",
        "Testing\n",
        ">>>print(len(components))\n",
        ">>>print(components[1].get_count())\n",
        ">>>r1 = circuit.Resistor() # Uses default values\n",
        ">>>r3 = circuit.Resistor()\n",
        ">>>t2 = circuit.Transistor()\n",
        "\n",
        ">>>print(r3)\n",
        ">>>print(r1)\n",
        ">>>print(t2)\n",
        "\n",
        ">>>r2 = circuit.Resistor(iD =1,name = \"Unknown1\",price = 3)\n",
        ">>>t1 = circuit.Transistor(iD =2, name =\"Unknown2\", price = 2)\n",
        ">>>print(r2)\n",
        ">>>print(t1)\n",
        "\n",
        "# Printing all components\n",
        "print(components)\n",
        "\"\"\"\n",
        "\n"
      ],
      "metadata": {
        "colab": {
          "base_uri": "https://localhost:8080/"
        },
        "id": "NjH-xiJq8AWF",
        "outputId": "3d09dfc5-6d69-4b56-e5f3-51f5680f6f72"
      },
      "execution_count": null,
      "outputs": [
        {
          "output_type": "stream",
          "name": "stdout",
          "text": [
            "Overwriting P2_Tufan.py\n"
          ]
        }
      ]
    },
    {
      "cell_type": "code",
      "source": [
        "randint(4,100)\n",
        "id, name = 'unknown', no_terminals = 10, price = 20.0"
      ],
      "metadata": {
        "id": "4E-b1C9L7NOv"
      },
      "execution_count": null,
      "outputs": []
    },
    {
      "cell_type": "markdown",
      "metadata": {
        "id": "L0D0X5uYv0Fk"
      },
      "source": [
        "Others details will be updated soon."
      ]
    }
  ],
  "metadata": {
    "kernelspec": {
      "display_name": "Python 3",
      "language": "python",
      "name": "python3"
    },
    "language_info": {
      "codemirror_mode": {
        "name": "ipython",
        "version": 3
      },
      "file_extension": ".py",
      "mimetype": "text/x-python",
      "name": "python",
      "nbconvert_exporter": "python",
      "pygments_lexer": "ipython3",
      "version": "3.8.5"
    },
    "colab": {
      "provenance": [],
      "include_colab_link": true
    }
  },
  "nbformat": 4,
  "nbformat_minor": 0
}